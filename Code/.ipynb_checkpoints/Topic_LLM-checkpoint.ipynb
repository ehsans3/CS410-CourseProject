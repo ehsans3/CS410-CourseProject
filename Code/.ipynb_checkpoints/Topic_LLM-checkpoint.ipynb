{
 "cells": [
  {
   "cell_type": "code",
   "execution_count": null,
   "id": "26117b2c-792c-44d1-ab9e-9f3008921c0f",
   "metadata": {},
   "outputs": [],
   "source": [
    "pip install langchain\n",
    "pip install openai"
   ]
  },
  {
   "cell_type": "code",
   "execution_count": 1,
   "id": "1f6e87ec-b94d-42e3-a9fe-d12aab8e4051",
   "metadata": {
    "tags": []
   },
   "outputs": [],
   "source": [
    "import os\n",
    "import pandas as pd\n",
    "from dotenv import load_dotenv\n",
    "load_dotenv()\n",
    "openai_api_key=os.getenv('OPENAI_API_KEY', 'YourAPIKey')\n",
    "\n",
    "from langchain.document_loaders import DirectoryLoader\n",
    "from langchain.chat_models import ChatOpenAI\n",
    "from langchain.text_splitter import RecursiveCharacterTextSplitter\n",
    "from langchain.chains.summarize import load_summarize_chain\n",
    "from langchain.chains import create_extraction_chain\n",
    "from langchain.prompts.chat import ChatPromptTemplate, SystemMessagePromptTemplate, HumanMessagePromptTemplate"
   ]
  },
  {
   "cell_type": "code",
   "execution_count": 2,
   "id": "8e9c6df7-78ed-45ee-b93c-e8589fce6862",
   "metadata": {
    "tags": []
   },
   "outputs": [],
   "source": [
    "llm3 = ChatOpenAI(temperature=0, model_name=\"gpt-3.5-turbo-0613\", request_timeout = 3000)\n",
    "\n",
    "llm4 = ChatOpenAI(temperature=0, model_name=\"gpt-4-0613\", request_timeout = 3000)"
   ]
  },
  {
   "cell_type": "code",
   "execution_count": 3,
   "id": "faf4d76e-b43c-43f6-a929-beffdc8e2b46",
   "metadata": {
    "tags": []
   },
   "outputs": [
    {
     "name": "stdout",
     "output_type": "stream",
     "text": [
      "Directory folder has been reviewd to find the number of files and 1 transcripts loaded.\n",
      "Next, the 1 loaded transcripts have been split into 3 chunks.\n"
     ]
    }
   ],
   "source": [
    "text_splitter = RecursiveCharacterTextSplitter(separators=[\"\\n\\n\", \"\\n\", \" \"], chunk_size=10000, chunk_overlap=2200)\n",
    "loader = DirectoryLoader('C:\\CS410-CourseProject\\Technical Paper/', glob='**/*.txt')\n",
    "\n",
    "documents = loader.load()\n",
    "print (f\"Directory folder has been reviewd to find the number of files and {len(documents)} transcripts loaded.\")\n",
    "\n",
    "texts = text_splitter.split_documents(documents)\n",
    "print (f\"Next, the {len(documents)} loaded transcripts have been split into {len(texts)} chunks.\")"
   ]
  },
  {
   "cell_type": "code",
   "execution_count": 4,
   "id": "7a05057a-ba40-4844-b880-44fa962e0588",
   "metadata": {
    "tags": []
   },
   "outputs": [],
   "source": [
    "docs = loader.load()"
   ]
  },
  {
   "cell_type": "code",
   "execution_count": 5,
   "id": "ac47b9ba-0926-4eeb-9df2-11a79ebec82c",
   "metadata": {
    "tags": []
   },
   "outputs": [],
   "source": [
    "template=\"\"\"\n",
    "Find topic from course transcript or technical paper\n",
    "- Your goal is to extract the topic names from document.\n",
    "- Provide a brief description of the topics after the topic name. Example: 'Topic: Brief Description'\n",
    "- Only pull topics from the transcript or technical paper. Do not use the examples.\n",
    "\n",
    "\"\"\"\n",
    "system_message_prompt = SystemMessagePromptTemplate.from_template(template)\n",
    "\n",
    "human_prompt = \"Transcript: {text}\" \n",
    "human_message_template = HumanMessagePromptTemplate.from_template(human_prompt)\n",
    "\n",
    "chat_prompt = ChatPromptTemplate.from_messages(messages = [system_message_prompt, human_message_template])"
   ]
  },
  {
   "cell_type": "code",
   "execution_count": 6,
   "id": "61f6d51b-ec7e-4595-8670-c4ad401befd9",
   "metadata": {
    "tags": []
   },
   "outputs": [],
   "source": [
    "template=\"\"\"\n",
    "You are a helpful assistant that helps retrieve topics that discusssed in course transcript or technical document.\n",
    "- You will be given a series of bullet topics of topics found.\n",
    "- Your goal is to exract the topic names and brief description of the topic.\n",
    "- Only pull topics from the transcript or technical documents. Do not use the examples.\n",
    "\n",
    "\"\"\"\n",
    "system_message_prompt = SystemMessagePromptTemplate.from_template(template)\n",
    "\n",
    "human_prompt = \"Transcript: {text}\" \n",
    "human_message_template = HumanMessagePromptTemplate.from_template(human_prompt)\n",
    "\n",
    "chat_prompt_combine = ChatPromptTemplate.from_messages(messages=[system_message_prompt, human_message_template])"
   ]
  },
  {
   "cell_type": "code",
   "execution_count": 7,
   "id": "c184683e-1340-472e-b0ca-267c4fbe917a",
   "metadata": {
    "tags": []
   },
   "outputs": [],
   "source": [
    "chain = load_summarize_chain(llm4, chain_type = \"map_reduce\",\n",
    "                             map_prompt = chat_prompt, combine_prompt = chat_prompt_combine)"
   ]
  },
  {
   "cell_type": "code",
   "execution_count": 8,
   "id": "c0e114b2-cf65-49fc-9a8b-1f10741972cc",
   "metadata": {
    "tags": []
   },
   "outputs": [],
   "source": [
    "topics_found = chain.run({\"input_documents\": docs})"
   ]
  },
  {
   "cell_type": "code",
   "execution_count": 9,
   "id": "8a65fbfd-71fc-424c-91fa-3f4d920416c3",
   "metadata": {
    "tags": []
   },
   "outputs": [
    {
     "name": "stdout",
     "output_type": "stream",
     "text": [
      "1. Topic: Influence of Embedded Material on Natural Frequencies of Double Segment Rotating Disk\n",
      "   Description: The topic covers the effects of incorporating different materials at one edge of a rotating disk on its natural frequencies and critical speeds. The discussion is based on the linear in-plane free vibration of a compound disk with material discontinuity.\n",
      "\n",
      "2. Topic: In-Plane Free Vibration of Rotating Disks\n",
      "   Description: This topic delves into the in-plane free vibration of rotating disks, especially those with material discontinuity. It examines the impact of rotational speed and radius ratio on the natural frequency and elastic stability of fixed-free rotating disks.\n",
      "\n",
      "3. Topic: Development of the Governing Equation\n",
      "   Description: This topic involves the derivation of the governing equations of motion for a rotating compound disk. It covers the plane stress condition, the equations of motion for a point on the disk in polar coordinates, and the associated normal and shear stresses.\n",
      "\n",
      "4. Topic: Modal Stresses and Displacements\n",
      "   Description: This topic discusses the solution to the coupled differential equations presented in the governing equations of motion. It introduces the modal elastic rotation and dilatation, and the radial and tangential displacement in terms of time.\n",
      "\n",
      "5. Topic: Natural Frequency Equations\n",
      "   Description: This topic explains the process of obtaining the modal information and natural frequencies of the rotating disk. It discusses the boundary conditions and the compatibility of the modal displacements and stresses.\n",
      "\n",
      "6. Topic: Discussion and Results\n",
      "   Description: This topic presents the results of the study, including the natural frequencies, critical speeds, and distribution of stresses and displacements for two different sizes of added disk segments with material discontinuity. It also discusses the effect of the embedded material properties on the variations of non-dimensional natural frequency versus rotating speeds.\n",
      "\n",
      "7. Topic: Conclusions\n",
      "   Description: This topic summarizes the study's findings, emphasizing the impact of rotational speed, radius ratio, mode of vibration, and material properties on the natural frequencies of a rotating disk. It also discusses the potential applications of the study in the design of rotating disks.\n"
     ]
    }
   ],
   "source": [
    "print (topics_found)"
   ]
  },
  {
   "cell_type": "code",
   "execution_count": 10,
   "id": "b694e774-9a0f-4923-a7be-10af5b5c2bcf",
   "metadata": {
    "tags": []
   },
   "outputs": [],
   "source": [
    "schema = {\n",
    "    \"properties\": {\n",
    "        \"topic_name\": {\n",
    "            \"type\": \"string\",\n",
    "            \"description\" : \"The title of the topic listed\"\n",
    "        },\n",
    "        \"description\": {\n",
    "            \"type\": \"string\",\n",
    "            \"description\" : \"The description of the topic listed\"\n",
    "        },\n",
    "    },\n",
    "    \"required\": [\"topic\", \"description\"],\n",
    "}"
   ]
  },
  {
   "cell_type": "code",
   "execution_count": 11,
   "id": "0a8ea917-4bc3-422c-81fa-9d091fc6d36f",
   "metadata": {
    "tags": []
   },
   "outputs": [],
   "source": [
    "chain = create_extraction_chain(schema, llm3)\n",
    "topics_structured = chain.run(topics_found)"
   ]
  },
  {
   "cell_type": "code",
   "execution_count": 12,
   "id": "1404d6f3-7bfe-46cb-82ac-25523f15f095",
   "metadata": {
    "tags": []
   },
   "outputs": [
    {
     "data": {
      "text/plain": [
       "[{'topic_name': 'Influence of Embedded Material on Natural Frequencies of Double Segment Rotating Disk',\n",
       "  'description': 'The topic covers the effects of incorporating different materials at one edge of a rotating disk on its natural frequencies and critical speeds. The discussion is based on the linear in-plane free vibration of a compound disk with material discontinuity.'},\n",
       " {'topic_name': 'In-Plane Free Vibration of Rotating Disks',\n",
       "  'description': 'This topic delves into the in-plane free vibration of rotating disks, especially those with material discontinuity. It examines the impact of rotational speed and radius ratio on the natural frequency and elastic stability of fixed-free rotating disks.'},\n",
       " {'topic_name': 'Development of the Governing Equation',\n",
       "  'description': 'This topic involves the derivation of the governing equations of motion for a rotating compound disk. It covers the plane stress condition, the equations of motion for a point on the disk in polar coordinates, and the associated normal and shear stresses.'},\n",
       " {'topic_name': 'Modal Stresses and Displacements',\n",
       "  'description': 'This topic discusses the solution to the coupled differential equations presented in the governing equations of motion. It introduces the modal elastic rotation and dilatation, and the radial and tangential displacement in terms of time.'},\n",
       " {'topic_name': 'Natural Frequency Equations',\n",
       "  'description': 'This topic explains the process of obtaining the modal information and natural frequencies of the rotating disk. It discusses the boundary conditions and the compatibility of the modal displacements and stresses.'},\n",
       " {'topic_name': 'Discussion and Results',\n",
       "  'description': 'This topic presents the results of the study, including the natural frequencies, critical speeds, and distribution of stresses and displacements for two different sizes of added disk segments with material discontinuity. It also discusses the effect of the embedded material properties on the variations of non-dimensional natural frequency versus rotating speeds.'},\n",
       " {'topic_name': 'Conclusions',\n",
       "  'description': \"This topic summarizes the study's findings, emphasizing the impact of rotational speed, radius ratio, mode of vibration, and material properties on the natural frequencies of a rotating disk. It also discusses the potential applications of the study in the design of rotating disks.\"}]"
      ]
     },
     "execution_count": 12,
     "metadata": {},
     "output_type": "execute_result"
    }
   ],
   "source": [
    "topics_structured"
   ]
  },
  {
   "cell_type": "code",
   "execution_count": 13,
   "id": "137dda4e-87f8-46b5-8bf7-f1321f314170",
   "metadata": {
    "tags": []
   },
   "outputs": [
    {
     "data": {
      "text/html": [
       "<div>\n",
       "<style scoped>\n",
       "    .dataframe tbody tr th:only-of-type {\n",
       "        vertical-align: middle;\n",
       "    }\n",
       "\n",
       "    .dataframe tbody tr th {\n",
       "        vertical-align: top;\n",
       "    }\n",
       "\n",
       "    .dataframe thead th {\n",
       "        text-align: right;\n",
       "    }\n",
       "</style>\n",
       "<table border=\"1\" class=\"dataframe\">\n",
       "  <thead>\n",
       "    <tr style=\"text-align: right;\">\n",
       "      <th></th>\n",
       "      <th>topic_name</th>\n",
       "      <th>description</th>\n",
       "    </tr>\n",
       "  </thead>\n",
       "  <tbody>\n",
       "    <tr>\n",
       "      <th>0</th>\n",
       "      <td>Influence of Embedded Material on Natural Freq...</td>\n",
       "      <td>The topic covers the effects of incorporating ...</td>\n",
       "    </tr>\n",
       "    <tr>\n",
       "      <th>1</th>\n",
       "      <td>In-Plane Free Vibration of Rotating Disks</td>\n",
       "      <td>This topic delves into the in-plane free vibra...</td>\n",
       "    </tr>\n",
       "    <tr>\n",
       "      <th>2</th>\n",
       "      <td>Development of the Governing Equation</td>\n",
       "      <td>This topic involves the derivation of the gove...</td>\n",
       "    </tr>\n",
       "    <tr>\n",
       "      <th>3</th>\n",
       "      <td>Modal Stresses and Displacements</td>\n",
       "      <td>This topic discusses the solution to the coupl...</td>\n",
       "    </tr>\n",
       "    <tr>\n",
       "      <th>4</th>\n",
       "      <td>Natural Frequency Equations</td>\n",
       "      <td>This topic explains the process of obtaining t...</td>\n",
       "    </tr>\n",
       "    <tr>\n",
       "      <th>5</th>\n",
       "      <td>Discussion and Results</td>\n",
       "      <td>This topic presents the results of the study, ...</td>\n",
       "    </tr>\n",
       "    <tr>\n",
       "      <th>6</th>\n",
       "      <td>Conclusions</td>\n",
       "      <td>This topic summarizes the study's findings, em...</td>\n",
       "    </tr>\n",
       "  </tbody>\n",
       "</table>\n",
       "</div>"
      ],
      "text/plain": [
       "                                          topic_name  \\\n",
       "0  Influence of Embedded Material on Natural Freq...   \n",
       "1          In-Plane Free Vibration of Rotating Disks   \n",
       "2              Development of the Governing Equation   \n",
       "3                   Modal Stresses and Displacements   \n",
       "4                        Natural Frequency Equations   \n",
       "5                             Discussion and Results   \n",
       "6                                        Conclusions   \n",
       "\n",
       "                                         description  \n",
       "0  The topic covers the effects of incorporating ...  \n",
       "1  This topic delves into the in-plane free vibra...  \n",
       "2  This topic involves the derivation of the gove...  \n",
       "3  This topic discusses the solution to the coupl...  \n",
       "4  This topic explains the process of obtaining t...  \n",
       "5  This topic presents the results of the study, ...  \n",
       "6  This topic summarizes the study's findings, em...  "
      ]
     },
     "execution_count": 13,
     "metadata": {},
     "output_type": "execute_result"
    }
   ],
   "source": [
    "import pandas as pd\n",
    "df = pd.DataFrame(topics_structured)\n",
    "df"
   ]
  },
  {
   "cell_type": "code",
   "execution_count": 14,
   "id": "fb1bf80a-8ded-40d7-8e35-9d858f889581",
   "metadata": {
    "tags": []
   },
   "outputs": [],
   "source": [
    "df.to_csv(r'C:\\CS410-CourseProject\\topic_compound_rotating_disk_paper.csv', mode='a', index = None)"
   ]
  },
  {
   "cell_type": "code",
   "execution_count": null,
   "id": "89e5f061-5395-42e3-9c1f-447753194789",
   "metadata": {},
   "outputs": [],
   "source": []
  },
  {
   "cell_type": "code",
   "execution_count": null,
   "id": "548aa2f4-5b6b-4148-a4fa-d64e7a539bce",
   "metadata": {},
   "outputs": [],
   "source": []
  },
  {
   "cell_type": "code",
   "execution_count": null,
   "id": "90475db9-868d-4065-9307-7992c7d95831",
   "metadata": {},
   "outputs": [],
   "source": []
  },
  {
   "cell_type": "code",
   "execution_count": null,
   "id": "3dfc27ea-b346-4a48-8831-4316b4c79436",
   "metadata": {},
   "outputs": [],
   "source": []
  },
  {
   "cell_type": "code",
   "execution_count": null,
   "id": "159c7b65-e60e-4bf8-9d1b-dfd903ea795c",
   "metadata": {},
   "outputs": [],
   "source": []
  },
  {
   "cell_type": "code",
   "execution_count": null,
   "id": "497c53f1-8448-4daa-9cb6-389965052392",
   "metadata": {},
   "outputs": [],
   "source": []
  },
  {
   "cell_type": "code",
   "execution_count": null,
   "id": "5eee0e28-80a8-47b2-bf55-eba76f76f71f",
   "metadata": {},
   "outputs": [],
   "source": []
  },
  {
   "cell_type": "code",
   "execution_count": null,
   "id": "7dff0add-3fcb-4028-a6f6-081ddb89621c",
   "metadata": {},
   "outputs": [],
   "source": []
  },
  {
   "cell_type": "code",
   "execution_count": null,
   "id": "39cfba0f-71a4-4bdb-85e4-1d441b631846",
   "metadata": {},
   "outputs": [],
   "source": []
  }
 ],
 "metadata": {
  "kernelspec": {
   "display_name": "Python 3",
   "language": "python",
   "name": "python3"
  },
  "language_info": {
   "codemirror_mode": {
    "name": "ipython",
    "version": 3
   },
   "file_extension": ".py",
   "mimetype": "text/x-python",
   "name": "python",
   "nbconvert_exporter": "python",
   "pygments_lexer": "ipython3",
   "version": "3.11.5"
  }
 },
 "nbformat": 4,
 "nbformat_minor": 5
}
